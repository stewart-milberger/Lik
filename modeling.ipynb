{
 "cells": [
  {
   "cell_type": "code",
   "execution_count": 2,
   "metadata": {},
   "outputs": [],
   "source": [
    "import PIL\n",
    "from PIL import Image\n",
    "#from matplotlib import image\n",
    "import matplotlib.pyplot as plt\n",
    "import numpy as np\n",
    "\n",
    "import tensorflow as tf\n",
    "import tensorflow.keras\n",
    "from tensorflow import keras\n",
    "from tensorflow.keras.models import Sequential\n",
    "from tensorflow.keras.layers import Dense, Conv2D, Flatten, Dropout, MaxPooling2D, BatchNormalization\n",
    "from tensorflow.keras.preprocessing.image import ImageDataGenerator\n"
   ]
  },
  {
   "cell_type": "code",
   "execution_count": 2,
   "metadata": {},
   "outputs": [],
   "source": [
    "%load_ext autoreload\n",
    "%autoreload 2"
   ]
  },
  {
   "cell_type": "code",
   "execution_count": 3,
   "metadata": {},
   "outputs": [
    {
     "data": {
      "text/plain": [
       "[PhysicalDevice(name='/physical_device:CPU:0', device_type='CPU'),\n",
       " PhysicalDevice(name='/physical_device:XLA_CPU:0', device_type='XLA_CPU'),\n",
       " PhysicalDevice(name='/physical_device:GPU:0', device_type='GPU')]"
      ]
     },
     "execution_count": 3,
     "metadata": {},
     "output_type": "execute_result"
    }
   ],
   "source": [
    "tf.config.list_physical_devices()"
   ]
  },
  {
   "cell_type": "code",
   "execution_count": null,
   "metadata": {},
   "outputs": [],
   "source": []
  },
  {
   "cell_type": "code",
   "execution_count": 6,
   "metadata": {},
   "outputs": [],
   "source": [
    "img_gen = ImageDataGenerator(rescale=1./255)"
   ]
  },
  {
   "cell_type": "code",
   "execution_count": 7,
   "metadata": {},
   "outputs": [
    {
     "name": "stdout",
     "output_type": "stream",
     "text": [
      "Found 3910 images belonging to 2 classes.\n",
      "Found 720 images belonging to 2 classes.\n",
      "Found 100 images belonging to 1 classes.\n",
      "Found 100 images belonging to 1 classes.\n"
     ]
    }
   ],
   "source": [
    "img_size = (300,800)\n",
    "train_data_gen = img_gen.flow_from_directory(directory='images/train/',\n",
    "                                                    batch_size=6,\n",
    "                                                    shuffle=True,\n",
    "                                                    target_size= img_size,\n",
    "                                                    class_mode='binary',\n",
    "                                                    classes=['non_PL','PL'])\n",
    "test_data_gen = img_gen.flow_from_directory(directory='images/test/',\n",
    "                                                   batch_size=6,\n",
    "                                                   shuffle=True,\n",
    "                                                   target_size= img_size,\n",
    "                                                   class_mode='binary',\n",
    "                                                   classes=['non_PL','PL'])\n",
    "predict_PL_gen = img_gen.flow_from_directory(directory='images/predict/PL',\n",
    "                                                      target_size= img_size,\n",
    "                                                      batch_size=6,\n",
    "                                                      class_mode='binary',\n",
    "                                                      classes=['PL'])\n",
    "predict_non_PL_gen = img_gen.flow_from_directory(directory='images/predict/non_PL',\n",
    "                                                      target_size= img_size,\n",
    "                                                      batch_size=6,\n",
    "                                                      class_mode='binary',\n",
    "                                                      classes=['non_PL'])                                "
   ]
  },
  {
   "cell_type": "code",
   "execution_count": null,
   "metadata": {},
   "outputs": [],
   "source": []
  },
  {
   "cell_type": "code",
   "execution_count": 17,
   "metadata": {},
   "outputs": [],
   "source": [
    "# import and configure model checkpoints\n",
    "import os\n",
    "checkpoint_prefix = os.path.join('model_checkpoints/', \"ckpt_{epoch}\")\n",
    "\n",
    "checkpoint_callback=tf.keras.callbacks.ModelCheckpoint(\n",
    "    filepath=checkpoint_prefix,\n",
    "    save_weights_only=True)\n"
   ]
  },
  {
   "cell_type": "code",
   "execution_count": 18,
   "metadata": {},
   "outputs": [],
   "source": []
  },
  {
   "cell_type": "code",
   "execution_count": null,
   "metadata": {},
   "outputs": [],
   "source": []
  },
  {
   "cell_type": "code",
   "execution_count": 3,
   "metadata": {},
   "outputs": [],
   "source": [
    "base_full_res = keras.Sequential()\n",
    "base_full_res.add(keras.layers.Conv2D(128,(4,4), padding='same', activation='relu', input_shape=(300,800,3)))\n",
    "base_full_res.add(keras.layers.MaxPooling2D((6,6)))\n",
    "base_full_res.add(keras.layers.Dense(128))\n",
    "base_full_res.add(keras.layers.Conv2D(122,(2,2), activation='relu'))\n",
    "base_full_res.add(keras.layers.MaxPooling2D((2,2)))\n",
    "base_full_res.add(keras.layers.Flatten())\n",
    "base_full_res.add(keras.layers.Dense(64))    \n",
    "base_full_res.add(keras.layers.Dense(1, activation='sigmoid'))\n",
    "\n",
    "base_full_res.compile(optimizer='adam',\n",
    "             loss='binary_crossentropy',\n",
    "             metrics=['accuracy'])"
   ]
  },
  {
   "cell_type": "code",
   "execution_count": 4,
   "metadata": {},
   "outputs": [
    {
     "name": "stdout",
     "output_type": "stream",
     "text": [
      "Model: \"sequential\"\n",
      "_________________________________________________________________\n",
      "Layer (type)                 Output Shape              Param #   \n",
      "=================================================================\n",
      "conv2d (Conv2D)              (None, 300, 800, 128)     6272      \n",
      "_________________________________________________________________\n",
      "max_pooling2d (MaxPooling2D) (None, 50, 133, 128)      0         \n",
      "_________________________________________________________________\n",
      "dense (Dense)                (None, 50, 133, 128)      16512     \n",
      "_________________________________________________________________\n",
      "conv2d_1 (Conv2D)            (None, 49, 132, 122)      62586     \n",
      "_________________________________________________________________\n",
      "max_pooling2d_1 (MaxPooling2 (None, 24, 66, 122)       0         \n",
      "_________________________________________________________________\n",
      "flatten (Flatten)            (None, 193248)            0         \n",
      "_________________________________________________________________\n",
      "dense_1 (Dense)              (None, 64)                12367936  \n",
      "_________________________________________________________________\n",
      "dense_2 (Dense)              (None, 1)                 65        \n",
      "=================================================================\n",
      "Total params: 12,453,371\n",
      "Trainable params: 12,453,371\n",
      "Non-trainable params: 0\n",
      "_________________________________________________________________\n"
     ]
    }
   ],
   "source": [
    "base_full_res.summary()"
   ]
  },
  {
   "cell_type": "code",
   "execution_count": 8,
   "metadata": {},
   "outputs": [
    {
     "name": "stdout",
     "output_type": "stream",
     "text": [
      "WARNING:tensorflow:sample_weight modes were coerced from\n",
      "  ...\n",
      "    to  \n",
      "  ['...']\n",
      "WARNING:tensorflow:sample_weight modes were coerced from\n",
      "  ...\n",
      "    to  \n",
      "  ['...']\n",
      "Train for 652 steps, validate for 120 steps\n",
      "Epoch 1/20\n",
      "652/652 [==============================] - 207s 317ms/step - loss: 0.7815 - accuracy: 0.6123 - val_loss: 0.6618 - val_accuracy: 0.5542\n",
      "Epoch 2/20\n",
      "652/652 [==============================] - 175s 269ms/step - loss: 0.6946 - accuracy: 0.5604 - val_loss: 0.6865 - val_accuracy: 0.5556\n",
      "Epoch 3/20\n",
      "652/652 [==============================] - 176s 269ms/step - loss: 0.7020 - accuracy: 0.5606 - val_loss: 0.6870 - val_accuracy: 0.5556\n",
      "Epoch 4/20\n",
      "652/652 [==============================] - 175s 269ms/step - loss: 0.6868 - accuracy: 0.5619 - val_loss: 0.6870 - val_accuracy: 0.5556\n",
      "Epoch 5/20\n",
      "652/652 [==============================] - 175s 269ms/step - loss: 0.6862 - accuracy: 0.5596 - val_loss: 0.6883 - val_accuracy: 0.5556\n",
      "Epoch 6/20\n",
      "652/652 [==============================] - 175s 269ms/step - loss: 0.6863 - accuracy: 0.5596 - val_loss: 0.6870 - val_accuracy: 0.5556\n",
      "Epoch 7/20\n",
      "652/652 [==============================] - 175s 269ms/step - loss: 0.6866 - accuracy: 0.5596 - val_loss: 0.6870 - val_accuracy: 0.5556\n",
      "Epoch 8/20\n",
      "652/652 [==============================] - 176s 269ms/step - loss: 0.6865 - accuracy: 0.5596 - val_loss: 0.6875 - val_accuracy: 0.5556\n",
      "Epoch 9/20\n",
      "652/652 [==============================] - 175s 269ms/step - loss: 0.7032 - accuracy: 0.5601 - val_loss: 0.6874 - val_accuracy: 0.5556\n",
      "Epoch 10/20\n",
      "652/652 [==============================] - 176s 270ms/step - loss: 0.6869 - accuracy: 0.5586 - val_loss: 0.6870 - val_accuracy: 0.5556\n",
      "Epoch 11/20\n",
      "652/652 [==============================] - 175s 269ms/step - loss: 0.6880 - accuracy: 0.5596 - val_loss: 0.6870 - val_accuracy: 0.5556\n",
      "Epoch 12/20\n",
      "652/652 [==============================] - 176s 269ms/step - loss: 0.6862 - accuracy: 0.5596 - val_loss: 0.6872 - val_accuracy: 0.5556\n",
      "Epoch 13/20\n",
      "652/652 [==============================] - 175s 269ms/step - loss: 0.6863 - accuracy: 0.5596 - val_loss: 0.6874 - val_accuracy: 0.5556\n",
      "Epoch 14/20\n",
      "652/652 [==============================] - 175s 269ms/step - loss: 0.6865 - accuracy: 0.5596 - val_loss: 0.6869 - val_accuracy: 0.5556\n",
      "Epoch 15/20\n",
      "652/652 [==============================] - 175s 269ms/step - loss: 0.7090 - accuracy: 0.5575 - val_loss: 0.6875 - val_accuracy: 0.5556\n",
      "Epoch 16/20\n",
      "652/652 [==============================] - 176s 269ms/step - loss: 0.6931 - accuracy: 0.5596 - val_loss: 0.6870 - val_accuracy: 0.5556\n",
      "Epoch 17/20\n",
      "652/652 [==============================] - 175s 269ms/step - loss: 0.6862 - accuracy: 0.5596 - val_loss: 0.6870 - val_accuracy: 0.5556\n",
      "Epoch 18/20\n",
      "652/652 [==============================] - 175s 269ms/step - loss: 0.6861 - accuracy: 0.5593 - val_loss: 0.6869 - val_accuracy: 0.5556\n",
      "Epoch 19/20\n",
      "652/652 [==============================] - 176s 270ms/step - loss: 0.6870 - accuracy: 0.5596 - val_loss: 0.6870 - val_accuracy: 0.5556\n",
      "Epoch 20/20\n",
      "652/652 [==============================] - 175s 269ms/step - loss: 0.6863 - accuracy: 0.5596 - val_loss: 0.6870 - val_accuracy: 0.5556\n"
     ]
    }
   ],
   "source": [
    "base1 = base_full_res.fit(train_data_gen, epochs=20,\n",
    "                    validation_data=(test_data_gen)\n",
    "                   )"
   ]
  },
  {
   "cell_type": "code",
   "execution_count": null,
   "metadata": {},
   "outputs": [],
   "source": []
  },
  {
   "cell_type": "code",
   "execution_count": 10,
   "metadata": {},
   "outputs": [
    {
     "name": "stdout",
     "output_type": "stream",
     "text": [
      "WARNING:tensorflow:sample_weight modes were coerced from\n",
      "  ...\n",
      "    to  \n",
      "  ['...']\n",
      "WARNING:tensorflow:sample_weight modes were coerced from\n",
      "  ...\n",
      "    to  \n",
      "  ['...']\n",
      "Train for 91 steps, validate for 13 steps\n",
      "Epoch 1/8\n",
      "91/91 [==============================] - 277s 3s/step - loss: 29.9283 - accuracy: 0.6692 - val_loss: 1.9717 - val_accuracy: 0.7724\n",
      "Epoch 2/8\n",
      "91/91 [==============================] - 273s 3s/step - loss: 1.0843 - accuracy: 0.7977 - val_loss: 0.6347 - val_accuracy: 0.7642\n",
      "Epoch 3/8\n",
      "91/91 [==============================] - 272s 3s/step - loss: 0.2961 - accuracy: 0.9085 - val_loss: 0.6519 - val_accuracy: 0.7967\n",
      "Epoch 4/8\n",
      "91/91 [==============================] - 272s 3s/step - loss: 0.1532 - accuracy: 0.9504 - val_loss: 0.9238 - val_accuracy: 0.7602\n",
      "Epoch 5/8\n",
      "91/91 [==============================] - 272s 3s/step - loss: 0.0986 - accuracy: 0.9675 - val_loss: 0.6023 - val_accuracy: 0.8089\n",
      "Epoch 6/8\n",
      "91/91 [==============================] - 273s 3s/step - loss: 0.0661 - accuracy: 0.9829 - val_loss: 0.6021 - val_accuracy: 0.8008\n",
      "Epoch 7/8\n",
      "91/91 [==============================] - 273s 3s/step - loss: 0.1340 - accuracy: 0.9603 - val_loss: 0.7213 - val_accuracy: 0.7724\n",
      "Epoch 8/8\n",
      "91/91 [==============================] - 273s 3s/step - loss: 0.1251 - accuracy: 0.9664 - val_loss: 0.9111 - val_accuracy: 0.7683\n"
     ]
    }
   ],
   "source": [
    "history4 = model.fit(train_data_gen, epochs=8,\n",
    "                    validation_data=(test_data_gen),\n",
    "                    #callbacks=[checkpoint_callback]\n",
    "                   )"
   ]
  },
  {
   "cell_type": "code",
   "execution_count": 12,
   "metadata": {},
   "outputs": [
    {
     "data": {
      "image/png": "[encoded data removed]",
      "text/plain": [
       "<Figure size 432x288 with 1 Axes>"
      ]
     },
     "metadata": {
      "needs_background": "light"
     },
     "output_type": "display_data"
    }
   ],
   "source": [
    "for key, value in history4.history.items():\n",
    "    plt.plot(value, label=key)\n",
    "    plt.ylim(-.1,1.1)\n",
    "    plt.legend()\n",
    "    plt.xlabel('epochs')"
   ]
  },
  {
   "cell_type": "code",
   "execution_count": null,
   "metadata": {},
   "outputs": [],
   "source": []
  },
  {
   "cell_type": "code",
   "execution_count": null,
   "metadata": {},
   "outputs": [],
   "source": []
  },
  {
   "cell_type": "code",
   "execution_count": 5,
   "metadata": {},
   "outputs": [
    {
     "name": "stdout",
     "output_type": "stream",
     "text": [
      "Collecting tensorflow-hub\n",
      "  Downloading tensorflow_hub-0.7.0-py2.py3-none-any.whl (89 kB)\n",
      "\u001b[K     |################################| 89 kB 725 kB/s eta 0:00:01\n",
      "\u001b[?25hRequirement already satisfied, skipping upgrade: protobuf>=3.4.0 in /usr/local/lib/python3.5/dist-packages (from tensorflow-hub) (3.11.3)\n",
      "Requirement already satisfied, skipping upgrade: numpy>=1.12.0 in /usr/local/lib/python3.5/dist-packages (from tensorflow-hub) (1.18.1)\n",
      "Requirement already satisfied, skipping upgrade: six>=1.10.0 in /usr/local/lib/python3.5/dist-packages (from tensorflow-hub) (1.14.0)\n",
      "Requirement already satisfied, skipping upgrade: setuptools in /usr/local/lib/python3.5/dist-packages (from protobuf>=3.4.0->tensorflow-hub) (45.2.0)\n",
      "Installing collected packages: tensorflow-hub\n",
      "Successfully installed tensorflow-hub-0.7.0\n"
     ]
    }
   ],
   "source": [
    "# install hub to docker image for transfer learning\n",
    "!pip install --upgrade tensorflow-hub"
   ]
  },
  {
   "cell_type": "code",
   "execution_count": 6,
   "metadata": {},
   "outputs": [],
   "source": [
    "import tensorflow_hub as hub"
   ]
  },
  {
   "cell_type": "code",
   "execution_count": null,
   "metadata": {},
   "outputs": [],
   "source": []
  },
  {
   "cell_type": "code",
   "execution_count": 7,
   "metadata": {},
   "outputs": [],
   "source": [
    "# build resnet model\n",
    "m = tf.keras.Sequential([\n",
    "          hub.KerasLayer(\"https://tfhub.dev/google/imagenet/resnet_v2_50/feature_vector/4\",\n",
    "          trainable=False),\n",
    "          tf.keras.layers.Dense(64, activation='relu'),\n",
    "          tf.keras.layers.Dense(1, activation='sigmoid')\n",
    "])\n",
    "m.compile(optimizer='adam',\n",
    "             loss=tf.keras.losses.BinaryCrossentropy(from_logits=False),\n",
    "             metrics=['accuracy'])\n",
    "\n",
    "m.build([6, 224, 224, 3])  # Batch input shape.\n"
   ]
  },
  {
   "cell_type": "code",
   "execution_count": 26,
   "metadata": {},
   "outputs": [
    {
     "name": "stdout",
     "output_type": "stream",
     "text": [
      "Model: \"sequential_5\"\n",
      "_________________________________________________________________\n",
      "Layer (type)                 Output Shape              Param #   \n",
      "=================================================================\n",
      "keras_layer_6 (KerasLayer)   multiple                  23564800  \n",
      "_________________________________________________________________\n",
      "dense_6 (Dense)              multiple                  131136    \n",
      "_________________________________________________________________\n",
      "dense_7 (Dense)              multiple                  65        \n",
      "=================================================================\n",
      "Total params: 23,696,001\n",
      "Trainable params: 131,201\n",
      "Non-trainable params: 23,564,800\n",
      "_________________________________________________________________\n"
     ]
    }
   ],
   "source": [
    "m.summary()"
   ]
  },
  {
   "cell_type": "code",
   "execution_count": 8,
   "metadata": {},
   "outputs": [
    {
     "name": "stdout",
     "output_type": "stream",
     "text": [
      "WARNING:tensorflow:sample_weight modes were coerced from\n",
      "  ...\n",
      "    to  \n",
      "  ['...']\n"
     ]
    },
    {
     "name": "stderr",
     "output_type": "stream",
     "text": [
      "WARNING:tensorflow:sample_weight modes were coerced from\n",
      "  ...\n",
      "    to  \n",
      "  ['...']\n"
     ]
    },
    {
     "name": "stdout",
     "output_type": "stream",
     "text": [
      "Train for 652 steps, validate for 120 steps\n",
      "Epoch 1/20\n",
      "652/652 [==============================] - 134s 206ms/step - loss: 0.4444 - accuracy: 0.7977 - val_loss: 0.4581 - val_accuracy: 0.7833\n",
      "Epoch 2/20\n",
      "652/652 [==============================] - 121s 186ms/step - loss: 0.2856 - accuracy: 0.8788 - val_loss: 0.3933 - val_accuracy: 0.8236\n",
      "Epoch 3/20\n",
      "652/652 [==============================] - 122s 187ms/step - loss: 0.1899 - accuracy: 0.9192 - val_loss: 0.3378 - val_accuracy: 0.8556\n",
      "Epoch 4/20\n",
      "652/652 [==============================] - 121s 186ms/step - loss: 0.1144 - accuracy: 0.9619 - val_loss: 0.3891 - val_accuracy: 0.8667\n",
      "Epoch 5/20\n",
      "652/652 [==============================] - 121s 185ms/step - loss: 0.0699 - accuracy: 0.9754 - val_loss: 0.4283 - val_accuracy: 0.8708\n",
      "Epoch 6/20\n",
      "652/652 [==============================] - 121s 186ms/step - loss: 0.0360 - accuracy: 0.9905 - val_loss: 0.5309 - val_accuracy: 0.8653\n",
      "Epoch 7/20\n",
      "652/652 [==============================] - 121s 186ms/step - loss: 0.0202 - accuracy: 0.9969 - val_loss: 0.4568 - val_accuracy: 0.8736\n",
      "Epoch 8/20\n",
      "652/652 [==============================] - 121s 186ms/step - loss: 0.0063 - accuracy: 1.0000 - val_loss: 0.4813 - val_accuracy: 0.8847\n",
      "Epoch 9/20\n",
      "652/652 [==============================] - 121s 186ms/step - loss: 0.0024 - accuracy: 1.0000 - val_loss: 0.4937 - val_accuracy: 0.8889\n",
      "Epoch 10/20\n",
      "652/652 [==============================] - 121s 186ms/step - loss: 0.0013 - accuracy: 1.0000 - val_loss: 0.5169 - val_accuracy: 0.8833\n",
      "Epoch 11/20\n",
      "652/652 [==============================] - 122s 186ms/step - loss: 7.8950e-04 - accuracy: 1.0000 - val_loss: 0.5441 - val_accuracy: 0.8833\n",
      "Epoch 12/20\n",
      "652/652 [==============================] - 121s 186ms/step - loss: 5.2706e-04 - accuracy: 1.0000 - val_loss: 0.5698 - val_accuracy: 0.8861\n",
      "Epoch 13/20\n",
      "652/652 [==============================] - 122s 187ms/step - loss: 3.6399e-04 - accuracy: 1.0000 - val_loss: 0.5841 - val_accuracy: 0.8931\n",
      "Epoch 14/20\n",
      "652/652 [==============================] - 122s 187ms/step - loss: 2.5687e-04 - accuracy: 1.0000 - val_loss: 0.6062 - val_accuracy: 0.8806\n",
      "Epoch 15/20\n",
      "652/652 [==============================] - 122s 187ms/step - loss: 1.8504e-04 - accuracy: 1.0000 - val_loss: 0.6211 - val_accuracy: 0.8889\n",
      "Epoch 16/20\n",
      "652/652 [==============================] - 122s 187ms/step - loss: 1.2715e-04 - accuracy: 1.0000 - val_loss: 0.6424 - val_accuracy: 0.8889\n",
      "Epoch 17/20\n",
      "652/652 [==============================] - 121s 186ms/step - loss: 8.9070e-05 - accuracy: 1.0000 - val_loss: 0.6677 - val_accuracy: 0.8889\n",
      "Epoch 18/20\n",
      "652/652 [==============================] - 122s 186ms/step - loss: 6.1303e-05 - accuracy: 1.0000 - val_loss: 0.6760 - val_accuracy: 0.8875\n",
      "Epoch 19/20\n",
      "652/652 [==============================] - 121s 186ms/step - loss: 4.2579e-05 - accuracy: 1.0000 - val_loss: 0.6942 - val_accuracy: 0.8875\n",
      "Epoch 20/20\n",
      "652/652 [==============================] - 122s 187ms/step - loss: 3.0092e-05 - accuracy: 1.0000 - val_loss: 0.7119 - val_accuracy: 0.8917\n"
     ]
    }
   ],
   "source": [
    "RN_D = m.fit(train_data_gen, epochs=20,\n",
    "                    validation_data=(test_data_gen),\n",
    "                    #callbacks=[checkpoint_callback]\n",
    "                   )"
   ]
  },
  {
   "cell_type": "code",
   "execution_count": 10,
   "metadata": {},
   "outputs": [
    {
     "data": {
      "image/png": "[encoded data removed]",
      "text/plain": [
       "<Figure size 432x288 with 1 Axes>"
      ]
     },
     "metadata": {
      "needs_background": "light"
     },
     "output_type": "display_data"
    }
   ],
   "source": [
    "for key, value in RN_D.history.items():\n",
    "    plt.plot(value, label=key)\n",
    "    plt.ylim(-.1,1.1)\n",
    "    plt.legend()\n",
    "    plt.xlabel('epochs')"
   ]
  },
  {
   "cell_type": "code",
   "execution_count": null,
   "metadata": {},
   "outputs": [],
   "source": []
  },
  {
   "cell_type": "code",
   "execution_count": 14,
   "metadata": {},
   "outputs": [],
   "source": [
    "# Predict 200 unseen image labels\n",
    "PL_predict = m.predict(predict_PL_gen)\n",
    "non_PL_predict = m.predict(predict_non_PL_gen)"
   ]
  },
  {
   "cell_type": "code",
   "execution_count": 29,
   "metadata": {},
   "outputs": [],
   "source": [
    "# Grab indexes of misclassified images\n",
    "PL_indexes = np.nonzero(PL_predict < .5)\n",
    "non_PL_indexes = np.nonzero(non_PL_predict > .5)"
   ]
  },
  {
   "cell_type": "code",
   "execution_count": 49,
   "metadata": {},
   "outputs": [
    {
     "name": "stdout",
     "output_type": "stream",
     "text": [
      "(array([ 8, 12, 30, 62, 91]), array([0, 0, 0, 0, 0]))\n",
      "(array([ 4, 39, 43, 54, 72, 75, 88]), array([0, 0, 0, 0, 0, 0, 0]))\n"
     ]
    }
   ],
   "source": [
    "print(PL_indexes)\n",
    "print(non_PL_indexes)"
   ]
  },
  {
   "cell_type": "code",
   "execution_count": 37,
   "metadata": {},
   "outputs": [],
   "source": [
    "# Grab directories of misclassified images\n",
    "PL_directories = list(tf.data.Dataset.list_files('images/predict/PL/' + '*/*'))\n",
    "non_PL_directories = list(tf.data.Dataset.list_files('images/predict/non_PL/' + '*/*'))"
   ]
  },
  {
   "cell_type": "code",
   "execution_count": 47,
   "metadata": {},
   "outputs": [
    {
     "name": "stdout",
     "output_type": "stream",
     "text": [
      "tf.Tensor(b'images/predict/PL/PL/2_372.png', shape=(), dtype=string)\n",
      "tf.Tensor(b'images/predict/PL/PL/2_1134.png', shape=(), dtype=string)\n",
      "tf.Tensor(b'images/predict/PL/PL/2_1273.png', shape=(), dtype=string)\n",
      "tf.Tensor(b'images/predict/PL/PL/565.png', shape=(), dtype=string)\n",
      "tf.Tensor(b'images/predict/PL/PL/2_750.png', shape=(), dtype=string)\n"
     ]
    }
   ],
   "source": [
    "for idx, direct in enumerate(PL_directories):\n",
    "    if idx in PL_indexes[0]:\n",
    "        print(direct)\n",
    "    "
   ]
  },
  {
   "cell_type": "code",
   "execution_count": 48,
   "metadata": {},
   "outputs": [
    {
     "name": "stdout",
     "output_type": "stream",
     "text": [
      "tf.Tensor(b'images/predict/non_PL/non_PL/155.png', shape=(), dtype=string)\n",
      "tf.Tensor(b'images/predict/non_PL/non_PL/677.png', shape=(), dtype=string)\n",
      "tf.Tensor(b'images/predict/non_PL/non_PL/2_1099.png', shape=(), dtype=string)\n",
      "tf.Tensor(b'images/predict/non_PL/non_PL/802.png', shape=(), dtype=string)\n",
      "tf.Tensor(b'images/predict/non_PL/non_PL/729.png', shape=(), dtype=string)\n",
      "tf.Tensor(b'images/predict/non_PL/non_PL/1100.png', shape=(), dtype=string)\n",
      "tf.Tensor(b'images/predict/non_PL/non_PL/1301.png', shape=(), dtype=string)\n"
     ]
    }
   ],
   "source": [
    "for idx, direct in enumerate(non_PL_directories):\n",
    "    if idx in non_PL_indexes[0]:\n",
    "        print(direct)"
   ]
  },
  {
   "cell_type": "code",
   "execution_count": null,
   "metadata": {},
   "outputs": [],
   "source": []
  },
  {
   "cell_type": "code",
   "execution_count": null,
   "metadata": {},
   "outputs": [],
   "source": []
  },
  {
   "cell_type": "code",
   "execution_count": 11,
   "metadata": {},
   "outputs": [],
   "source": [
    "# Save model scores\n",
    "f = open(\"model_results/base.txt\",\"w\")\n",
    "f.write( str(base1.history) )\n",
    "f.close()"
   ]
  },
  {
   "cell_type": "code",
   "execution_count": null,
   "metadata": {},
   "outputs": [],
   "source": []
  }
 ],
 "metadata": {
  "kernelspec": {
   "display_name": "Python 3",
   "language": "python",
   "name": "python3"
  },
  "language_info": {
   "codemirror_mode": {
    "name": "ipython",
    "version": 3
   },
   "file_extension": ".py",
   "mimetype": "text/x-python",
   "name": "python",
   "nbconvert_exporter": "python",
   "pygments_lexer": "ipython3",
   "version": "3.7.4"
  }
 },
 "nbformat": 4,
 "nbformat_minor": 4
}
