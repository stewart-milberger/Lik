{
 "cells": [
  {
   "cell_type": "code",
   "execution_count": 1,
   "metadata": {},
   "outputs": [],
   "source": [
    "from bs4 import BeautifulSoup as soup\n",
    "import requests\n",
    "import urllib"
   ]
  },
  {
   "cell_type": "code",
   "execution_count": 2,
   "metadata": {},
   "outputs": [],
   "source": [
    "session = requests.Session()"
   ]
  },
  {
   "cell_type": "code",
   "execution_count": 3,
   "metadata": {},
   "outputs": [],
   "source": [
    "# initialize list of url web pages\n",
    "pic_pages = ['', '?page=2', '?page=3', '?page=4', '?page=5', '?page=6']"
   ]
  },
  {
   "cell_type": "code",
   "execution_count": 4,
   "metadata": {},
   "outputs": [],
   "source": [
    "# create soup of each url page in pic_pages and add to dictionary with pages as keys\n",
    "page_dict = {}\n",
    "for page in pic_pages:\n",
    "    page_html = session.get('https://lik.com/collections/limited-edition' + page)\n",
    "    page_dict[page] = soup(page_html.text, 'html.parser').find('div', {'class': 'col-9 offset-1' })\n",
    "    "
   ]
  },
  {
   "cell_type": "code",
   "execution_count": 5,
   "metadata": {},
   "outputs": [],
   "source": [
    "# create url_list and add each full resolution image link from all pages\n",
    "url_list = []\n",
    "for e in page_dict.values():\n",
    "    a = e.find_all('a', {'class': 'grid__image'})\n",
    "    for line in a:\n",
    "        url_list.append(line['href'])\n",
    " "
   ]
  },
  {
   "cell_type": "code",
   "execution_count": 8,
   "metadata": {},
   "outputs": [],
   "source": [
    "# create dict with full resolution image links(need to be sliced)\n",
    "img_dict = {}\n",
    "for image in url_list:\n",
    "    page_link = 'https://lik.com' + image\n",
    "    img_html = session.get(page_link)\n",
    "    img_dict[image.rsplit('/', -1)[-1]] = soup(img_html.text, 'html.parser').find('img')['src']"
   ]
  },
  {
   "cell_type": "code",
   "execution_count": 16,
   "metadata": {},
   "outputs": [],
   "source": [
    "new_values = []\n",
    "for item in img_dict.values():\n",
    "    new_values.append(item[6:-13])"
   ]
  },
  {
   "cell_type": "code",
   "execution_count": 17,
   "metadata": {},
   "outputs": [
    {
     "data": {
      "text/plain": [
       "'shopify.com/s/files/1/2486/4354/files/Peter-Lik-In-Home-Home-Dropdown-Timeless-Beauty_400x.jpg'"
      ]
     },
     "execution_count": 17,
     "metadata": {},
     "output_type": "execute_result"
    }
   ],
   "source": [
    "new_values[0]"
   ]
  },
  {
   "cell_type": "code",
   "execution_count": 18,
   "metadata": {},
   "outputs": [],
   "source": [
    "import json\n",
    "\n",
    "json = json.dumps(img_dict)\n",
    "f = open(\"img_dict.json\",\"w\")\n",
    "f.write(json)\n",
    "f.close()"
   ]
  },
  {
   "cell_type": "code",
   "execution_count": null,
   "metadata": {},
   "outputs": [],
   "source": []
  },
  {
   "cell_type": "code",
   "execution_count": 9,
   "metadata": {},
   "outputs": [],
   "source": [
    "import pandas as pd\n",
    "import numpy as np\n",
    "import json"
   ]
  },
  {
   "cell_type": "code",
   "execution_count": 16,
   "metadata": {},
   "outputs": [],
   "source": [
    "with open('img_dict.json') as json_data:\n",
    "    img_dict = json.load(json_data)"
   ]
  },
  {
   "cell_type": "code",
   "execution_count": 15,
   "metadata": {},
   "outputs": [
    {
     "data": {
      "text/plain": [
       "dict_keys(['1859', 'a-morning-in-france', 'a-night-in-prague', 'a-secret-place', 'a-sky-full-stars', 'ablaze', 'afterburner', 'afterglow', 'alamo-square', 'allure', 'almighty', 'aloha-shores', 'alpine-retreat', 'amber-dawn', 'american-eagle', 'american-spirit', 'anchor-reflections', 'ancient-earth', 'ancient-spirit', 'angels-heart', 'antelope-canyon', 'antelope-cathedral', 'aqua-mosaic', 'arctic-jewel', 'arctic-moon', 'arctic-petal', 'artist-point', 'aspen-glow', 'aspen-impressions', 'aspen-moods', 'atlantic-cottage', 'atlantic-dawn', 'atlantic-escape', 'atlantic-moods', 'atlantic-reflections', 'atlantic-shores', 'atlantic-star', 'aurora', 'autumn-impressions', 'autumn-jewel', 'autumn-mist', 'autumn-moods', 'autumn-palette', 'autumn-spirit', 'autumn-splendor', 'autumn-stream', 'autumn-terrace', 'autumn-waters', 'autumns-flame', 'awaken', 'awakening', 'azure', 'babcock-mill', 'baker-beach', 'bamboo', 'bamboo-forest', 'bay-of-lights', 'beached', 'beached-heart', 'beautiful-day', 'becalmed', 'becoming', 'bedarra', 'bella', 'bella-luna', 'bella-vista', 'beneath-the-sun', 'beyond', 'beyond-paradise', 'beyond-the-sea', 'blaze-of-beauty', 'blazing-skies', 'blue', 'blush', 'blushing-forest', 'bodie-ghost-town', 'breathless', 'brooklyn-magic', 'brooklyn-moods', 'brooklyn-twilight', 'brush-wave', 'buff', 'byron-lighthouse', 'california-dreaming', 'california-poppy', 'calfornia-shores', 'canyon-glow', 'canyon-shadows', 'canyon-spirit', 'canyon-slendour', 'canyon-sunrise', 'canyon-whisper', 'cape-cod', 'cascade', 'cascade-reflections', 'castaway', 'cathedral-falls', 'cathedral-forest', 'celestial-dreams', 'central-park', 'changing-moods', 'charisma', 'cherish-1', 'chicago-nights', 'christmas-morning', 'chrome-heart', 'cinnabar-sands', 'city-guardian', 'city-hall', 'city-of-lights', 'cliffs-of-colour', 'cliffs-of-kauai', 'closer', 'coastal-breeze', 'coastal-dreams', 'coastal-palette', 'colorado', 'contemplation', 'coral-island-lady-musgrave', 'coral-stepping-stone', 'cradle-mountain', 'creation', 'crimson', 'crimson-tides', 'crown-jewel', 'crystal', 'crystal-blue', 'crystal-mill', 'crystal-river', 'crystal-sands', 'daniels-farm', 'dark-side-of-the-moon', 'daybreak', 'daydream', 'december', 'deco-dreams', 'deep-blue', 'deep-forest', 'delicate-heart', 'desert-dunes', 'desert-garden', 'desert-glow', 'desert-lights', 'desert-moods', 'desert-snow', 'desert-stream', 'deserted', 'deserted-isle', 'desire', 'divine-light', 'divine-temple', 'dolce-vita', 'dove-lake-shack', 'dreamcatcher', 'dreamland', 'dreams-edge', 'dreamtime', 'drifting', 'drifting-shadows', 'dune-shadow', 'dune-stairway', 'dusk-over-manhattan', 'eagle-eye', 'eagles-eye-bw', 'early-frost', 'earths-elder', 'east-river-crossing', 'echoes-of-brooklyn', 'echoes-of-silence', 'edge-of-time', 'el-capitan', 'elevation', 'embrace', 'emerald-forest', 'emerald-mists', 'emerald-shores', 'empire', 'enchanted', 'enchanted-city', 'enchanted-forest', 'enchanted-jetty', 'enchanted-morning', 'enchanted-pathway', 'enchantment', 'endless-birches', 'endless-dreams', 'endless-flow', 'endless-forest', 'endless-summer', 'enigma', 'enlightened', 'epic', 'epic-skies', 'escape', 'eternal-beauty', 'eternal-eagle', 'eternal-flame', 'eternal-guardian', 'eternal-spirit', 'ethereal-glow', 'euphoria', 'evening-tide', 'every-window-tells-a-story', 'evolution', 'fade-to-blue', 'faithful', 'fall-reflections', 'fall-retreat', 'falls-flame', 'fan-palms', 'fantail', 'far-away', 'fascination', 'field-of-dreams', 'fields-of-gold', 'fifty', 'fira', 'fire-and-ice', 'fire-dance', 'fire-on-the-mountain', 'fire-rock', 'firefly', 'first-day-of-summer', 'first-flight', 'first-snow-1', 'flat-iron', 'forbidden-ember', 'forest-elder', 'forest-morning', 'forever', 'four-mile-beach', 'fraser-dunes', 'freedom', 'garden-of-eden', 'genesis', 'ghost', 'gilded-forest', 'glowing-sunset', 'golden-dawn', 'golden-gate-mist', 'golden-gate-reflections', 'golden-sands', 'golden-shores', 'golden-silence', 'golden-twilight', 'gotham', 'great-barrier-reef', 'great-wall', 'greek-summer', 'green-island', 'guardian', 'guardian-angel', 'guardian-of-the-cliff', 'guardians-of-the-forest', 'haleakala', 'half-dome', 'hamoa-beach', 'hana-falls', 'hanalei-shore', 'hanging-garden', 'harbour-dawn', 'harbour-lights', 'harbour-mist', 'harbour-reflections', 'harmony', 'harmony-lane', 'harvest-silhouette', 'hawaiian-dream', 'hawaiian-impressions', 'heart-of-africa', 'heart-of-new-york', 'heart-of-the-australia', 'heart-of-the-ocean', 'heart-of-the-universe', 'heartland', 'heaven-on-earth', 'heavenly-gate', 'hidden-beauty', 'hidden-falls', 'hidden-reflections', 'hidden-secret', 'hidden-temple', 'hidden-world', 'hideaway', 'highway-163', 'holloways-sunrise', 'hollywood-nights', 'hopetoun-falls', 'i-stand-alone', 'ice-land', 'ice-princess', 'icy-waters', 'illumination', 'imagine', 'impression', 'in-search-of-the-sun', 'independence', 'indigo-moon', 'infinity', 'infinity-tree', 'inner-calm', 'inner-peace', 'inspiration', 'intimidator', 'into-the-blue', 'into-the-mist', 'intrigue', 'iron-glow', 'island-bliss', 'island-dreams', 'island-escape', 'island-fire', 'island-hideaway', 'island-in-the-sky', 'island-life', 'island-oasis', 'island-of-the-sun', 'island-whisper', 'ivory-falls', 'jewels-in-the-crown', 'kapalua', 'kauai-dreaming', 'keys-to-paradise', 'kihei-shores', 'king-of-the-desert', 'king-of-the-forest', 'kissing-dune', 'koki-beach', 'kona', 'kyoto-dreaming', 'lady-of-the-lake', 'lake-moraine', 'lanikai', 'last-light', 'last-surf', 'lasting-impressions', 'lavender', 'lavender-hill', 'lavender-sea', 'le-reve', 'legend-of-the-skies', 'life', 'lilies-of-the-pond', 'living-forest', 'loihi-dawn', 'lone-shack', 'luce-mia', 'lumiere', 'luminous-cityscape', 'lunar-eclipse', 'lunarscape', 'magic-cove', 'magic-forest', 'magical-falls', 'maheno-wreck', 'main-beach', 'majestic', 'majestic-falls', 'majestic-morning', 'maligue-dusk', 'manhattan-crossing', 'manhattan-guardian', 'maroon-bells', 'mauna-lani', 'meadow-dreaming', 'mediterranean-nights', 'metallic-symphony', 'metro-aurora', 'midnight-blue', 'midnight-storm', 'midnight-viper', 'midsummer-dreams', 'midtown-watercolor', 'misty-blue', 'misty-morning', 'misty-peaks', 'misty-river', 'molokai-shores', 'monarch', 'moon-over-montauk', 'moonlight-head', 'moonlight-in-venice', 'moonlight-reflections', 'moonlight-shadows', 'moonlit-birches', 'moonscape', 'morning-calm', 'morning-light', 'morning-reflections', 'morning-star', 'morning-sun', 'mossy-boulders', 'mother-of-pearl', 'mountain-glow', 'mountain-light', 'mt-lewis-rainforest', 'mykonos', 'mysterious-skies', 'mystic-falls', 'mystic-valley', 'mystical-forest', 'mystique', 'na-pali', 'na-pali-reflections', 'nantucket-reflections', 'napa-valley', 'natural-archway', 'natures-mill', 'natures-jewel', 'natures-palette', 'neon', 'neptune-beach', 'new-day', 'niagara', 'night-dreams', 'night-fire', 'night-moods', 'night-over-brooklyn', 'nikks-hut', 'nirvana', 'no-mans-hut', 'no-worries', 'noosa-coastal', 'noosa-inlet', 'now-and-zen', 'ocean-boulevard', 'ocean-calm', 'ocean-dance', 'ocean-falls', 'ocean-fire', 'ocean-glow', 'ocean-sanctuary', 'ocean-temple', 'ocean-trance', 'ocean-whisper', 'ocean-window', 'october', 'old-bills-hut', 'old-mates', 'on-the-beach', 'open-skies', 'orpheus-sunrise', 'otter-cliffs', 'outback-glow', 'pacific-blue', 'pacific-glow', 'pacific-light', 'pacific-nights', 'pacific-reflections', 'pacific-tides', 'painted-desert', 'painted-forest', 'painted-mountain', 'painted-night', 'painted-shores', 'painted-tides', 'palm-cove-sunrise', 'pandanus-cove', 'paradise', 'paradise-city', 'passion', 'pathway-to-heaven', 'pathway-to-paradise', 'patriarch-1', 'peace', 'peaceful-escape', 'peaceful-morning', 'peaceful-shores', 'peles-whisper', 'perfections', 'perpetual-bloom', 'prairie-storm', 'prairie-summer', 'prince-of-tides', 'pristine', 'pristine-waters', 'private-island', 'prosperity', 'pure', 'quiet-moment', 'radiant-spirit', 'red-dawn', 'redwood-forest', 'reflections', 'revelation', 'river-flow', 'river-moods', 'river-of-zen', 'river-resolute', 'river-titan', 'roaring', 'romantic-hut', 'romantic-nights', 'romantic-reflections', 'romantic-skies', 'romantica', 'rouge', 'rowboat-sunset', 'rue-saint-dominique-1', 'rue-saint-dominique', 'running-free', 'sacred-arch', 'sacred-falls', 'sacred-sunrise', 'saguaro', 'sail-away', 'santorini-terrace', 'sapphire', 'sausalito-reflections', 'scarlet', 'scarlet-falls', 'scarlet-moods', 'screwauger-falls', 'secret-cove', 'secret-fall', 'secret-forest', 'secret-morning', 'secret-passage', 'secret-shores', 'secret-veil', 'seduction', 'serenade', 'serenity', 'settlers-meadow', 'seven-sacred-pools', 'seventh-heaven', 'seventh-wonder', 'shadowland', 'shadows-of-gold', 'shell-sunrise', 'shepherd-of-the-cliff', 'shine', 'shipwreck-coast', 'shipwrecked', 'shore-watch', 'sierra-cascades', 'silence', 'silent-forest', 'silent-night', 'silent-reflection', 'silhouette', 'silver-birches', 'silver-gums', 'simplicity', 'sky-titan', 'sky-warrior', 'sleeping-giants', 'copy-of-sleeping-giants', 'snow-burst', 'snow-mass-silence', 'solace', 'solitude', 'soul', 'soul-temple', 'sounds-of-the-ocean', 'southern-cross', 'sphinx-cavern', 'spirit-island', 'spirit-of-america', 'spirit-of-australia', 'spirit-of-new-york', 'spirit-of-the-skies', 'spirit-of-the-universe', 'spirit-of-wisdom', 'spirit-rising', 'spirits-of-stone', 'spiritual-heartland', 'spiritual-light', 'splash-of-red', 'splendour', 'starfish', 'stargazer', 'starry-night', 'steel-monarch', 'stone-age', 'stone-spirit', 'stone-temple', 'storm-escape', 'sublime', 'summer-dreams', 'summer-romance', 'summers-day', 'sundance', 'sunday-5-47am', 'sunday-drive', 'sundown', 'sunflowers', 'sunkissed', 'sunlit-birches', 'sunrise-falls', 'sunrise-skies', 'sunseeker', 'sunset-dreams', 'sunset-jewel', 'sunset-symphony', 'sunshine-coast', 'survivor', 'suspended', 'sweet-escape', 'swift-river', 'swift-river-mist', 'swirling-sands', 'sydney-at-night', 'tahoe-jetty', 'tangerine', 'temple-of-fire', 'temple-of-sinawa', 'temple-of-the-sun', 'teton-reflections', 'texas-summer', 'the-aviator', 'the-boss', 'the-calm', 'the-cathedral', 'the-chief', 'the-chrysler', 'the-city', 'the-daintree', 'the-dawn', 'the-desert', 'the-field', 'the-iron', 'the-journey', 'the-last-night', 'the-lost-city', 'the-lost-forest', 'the-ocean', 'the-opera', 'the-pearl', 'the-porch', 'the-reaper', 'the-reef', 'the-river', 'the-sentinel', 'skys-no-limit', 'the-watchman', 'thou-shalt-follow', 'three-sisters', 'timeless', 'timeless-beauty', 'timeless-land', 'timeless-passage', 'timeless-tides', 'touch-the-sky', 'tough-act-to-follow', 'tower-of-silence', 'tranquil-bay', 'tranquil-blue', 'tranquil-forest', 'tranquil-shores', 'tranquility', 'tree-of-beauty', 'tree-of-dreams', 'tree-of-hope', 'tree-of-serenity', 'tree-of-the-universe', 'tree-of-zen', 'tropical-sunrise', 'true-blue-1', 'tuesday', 'turn-scarlet', 'turning-time', 'tuscan-dreams', 'tuscan-escape', 'twelve-apostles', 'twilight', 'twilight-arches', 'twilight-reflections', 'twin-beech', 'uluru', 'untamed', 'upolu', 'upon-horizon', 'upper-wentworth', 'valley-of-fire', 'valley-of-the-shadows', 'valley-of-the-waters', 'vegas-night', 'velocity', 'velvet-dunes', 'velvet-light', 'vertigo', 'vibrance', 'vintage-road', 'vintage-skies', 'violet-dawn', 'virgin-river', 'virginia', 'waikiki-palms', 'wailele', 'waimoku-falls', 'waking-lotus', 'wall-street', 'wallaces-hut', 'wanderlust', 'watching-the-city', 'water-patterns', 'wednesday', 'welcome-home', 'whisper', 'whispering-falls', 'whispering-sands', 'whispering-sea', 'whispering-spirit', 'white-awakening', 'wild-beauty', 'wild-blue', 'wild-spirit', 'wind-and-sea', 'windmill-shadow', 'window-to-paradise', 'winter-calm', 'winter-dawn', 'winter-giants', 'winter-jewel', 'winter-mood', 'winter-shadows', 'winter-temple', 'winter-tower', 'winters-flame', 'wishing-pool', 'wonderland', 'woodland-mosaic', 'worlds-apart', 'yellow', 'yosemite-reflections', 'zen', 'zion'])"
      ]
     },
     "execution_count": 15,
     "metadata": {},
     "output_type": "execute_result"
    }
   ],
   "source": []
  },
  {
   "cell_type": "code",
   "execution_count": null,
   "metadata": {},
   "outputs": [],
   "source": []
  },
  {
   "cell_type": "code",
   "execution_count": null,
   "metadata": {},
   "outputs": [],
   "source": []
  },
  {
   "cell_type": "code",
   "execution_count": 7,
   "metadata": {},
   "outputs": [
    {
     "data": {
      "text/plain": [
       "'//cdn.shopify.com/s/files/1/2486/4354/files/Peter-Lik-In-Home-Home-Dropdown-Timeless-Beauty_400x.jpg?v=1582065940'"
      ]
     },
     "execution_count": 7,
     "metadata": {},
     "output_type": "execute_result"
    }
   ],
   "source": [
    "# test cell\n",
    "img_html = session.get('https://lik.com/collections/limited-edition/products/zion')\n",
    "test = soup(img_html.text, 'html.parser').find('img')['src'] \n",
    "test"
   ]
  },
  {
   "cell_type": "code",
   "execution_count": null,
   "metadata": {},
   "outputs": [],
   "source": [
    "    "
   ]
  },
  {
   "cell_type": "code",
   "execution_count": null,
   "metadata": {},
   "outputs": [],
   "source": []
  },
  {
   "cell_type": "code",
   "execution_count": null,
   "metadata": {},
   "outputs": [],
   "source": [
    "img_dict.values()"
   ]
  },
  {
   "cell_type": "code",
   "execution_count": null,
   "metadata": {},
   "outputs": [],
   "source": []
  },
  {
   "cell_type": "code",
   "execution_count": null,
   "metadata": {},
   "outputs": [],
   "source": [
    "    image_file = open(\"pl_images/\" + image.rsplit('/', -1)[-1] + \".jpeg\", \"wb\")\n",
    "    image_file.write(urllib.request.urlopen(image).read())\n",
    "    image_file.close()"
   ]
  },
  {
   "cell_type": "code",
   "execution_count": null,
   "metadata": {},
   "outputs": [],
   "source": [
    "url_list[0]"
   ]
  },
  {
   "cell_type": "code",
   "execution_count": null,
   "metadata": {},
   "outputs": [],
   "source": [
    "https://lik.com/collections/limited-edition/products/1859"
   ]
  },
  {
   "cell_type": "code",
   "execution_count": null,
   "metadata": {},
   "outputs": [],
   "source": []
  },
  {
   "cell_type": "code",
   "execution_count": null,
   "metadata": {},
   "outputs": [],
   "source": [
    "img_dir = 'pl_images'"
   ]
  },
  {
   "cell_type": "code",
   "execution_count": null,
   "metadata": {},
   "outputs": [],
   "source": [
    "urllib.request.urlretrieve(\n",
    "            row['Thumbnail'],\n",
    "            '{}{}.jpg'.format(\n",
    "                BASE_DIR + topic,\n",
    "                (row['Title']\n",
    "                     # removing unwanted characters\n",
    "                    .lower()\n",
    "                    .replace(' ', '_')\n",
    "                    .replace('.', '')\n",
    "                    .replace(',', '')\n",
    "                    .replace(':', '')\n",
    "                    .replace('\\'', '')\n",
    "                    .replace('’', '')\n",
    "                    .replace('#', '')\n",
    "                    .replace('*', ''))\n",
    "            )\n",
    "        )"
   ]
  },
  {
   "cell_type": "code",
   "execution_count": null,
   "metadata": {},
   "outputs": [],
   "source": []
  }
 ],
 "metadata": {
  "kernelspec": {
   "display_name": "Python 3",
   "language": "python",
   "name": "python3"
  },
  "language_info": {
   "codemirror_mode": {
    "name": "ipython",
    "version": 3
   },
   "file_extension": ".py",
   "mimetype": "text/x-python",
   "name": "python",
   "nbconvert_exporter": "python",
   "pygments_lexer": "ipython3",
   "version": "3.7.4"
  }
 },
 "nbformat": 4,
 "nbformat_minor": 2
}
